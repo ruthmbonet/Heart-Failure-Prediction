{
 "cells": [
  {
   "cell_type": "markdown",
   "id": "20644db5",
   "metadata": {},
   "source": [
    "# Heart Fealure Prediction"
   ]
  },
  {
   "cell_type": "markdown",
   "id": "99c7309e",
   "metadata": {},
   "source": [
    "This project is based on a dataset from kaggle "
   ]
  },
  {
   "cell_type": "markdown",
   "id": "682f11df",
   "metadata": {},
   "source": [
    "### About the dataset\n",
    "\n",
    "Cardiovascular diseases (CVDs) are the number 1 cause of death globally, taking an estimated 17.9 million lives each year, which accounts for 31% of all deaths worlwide.\n",
    "Heart failure is a common event caused by CVDs and this dataset contains 12 features that can be used to predict mortality by heart failure.\n",
    "\n",
    "Most cardiovascular diseases can be prevented by addressing behavioural risk factors such as tobacco use, unhealthy diet and obesity, physical inactivity and harmful use of alcohol using population-wide strategies.\n",
    "\n",
    "People with cardiovascular disease or who are at high cardiovascular risk (due to the presence of one or more risk factors such as hypertension, diabetes, hyperlipidaemia or already established disease) need early detection and management wherein a machine learning model can be of great help."
   ]
  },
  {
   "cell_type": "markdown",
   "id": "36fc807b",
   "metadata": {},
   "source": [
    "### About the project\n",
    "\n",
    "The goal of the project is to predict heart failure taking into account the information we have. \\\n",
    "The steps to follow are: \n",
    "- Exploratory Data Analysis\n",
    "- Feature selection\n",
    "- Handling Imbalanced Class Problem\n",
    "- Choosing the model\n",
    "- Identifying overfitting\n",
    "- Metrics of the final model"
   ]
  },
  {
   "cell_type": "markdown",
   "id": "6cab1a9e",
   "metadata": {},
   "source": [
    "### Exploratory Data Analysis"
   ]
  },
  {
   "cell_type": "code",
   "execution_count": 1,
   "id": "01faa04b",
   "metadata": {},
   "outputs": [],
   "source": [
    "#Import all libraries and modules\n",
    "import pandas as pd\n",
    "import matplotlib.pyplot as plt\n",
    "import seaborn as sns\n",
    "import numpy as np\n",
    "import os\n",
    "import math\n",
    "from sklearn.ensemble import RandomForestClassifier\n",
    "from sklearn.model_selection import train_test_split,  RandomizedSearchCV, learning_curve\n",
    "from sklearn.metrics import classification_report, confusion_matrix, plot_roc_curve\n"
   ]
  },
  {
   "cell_type": "code",
   "execution_count": 2,
   "id": "e0dcbe6c",
   "metadata": {},
   "outputs": [],
   "source": [
    "#Read the dataset\n",
    "data = pd.read_csv('heart_failure_clinical_records_dataset.csv')"
   ]
  },
  {
   "cell_type": "code",
   "execution_count": 3,
   "id": "f2e435cd",
   "metadata": {},
   "outputs": [
    {
     "data": {
      "text/html": [
       "<div>\n",
       "<style scoped>\n",
       "    .dataframe tbody tr th:only-of-type {\n",
       "        vertical-align: middle;\n",
       "    }\n",
       "\n",
       "    .dataframe tbody tr th {\n",
       "        vertical-align: top;\n",
       "    }\n",
       "\n",
       "    .dataframe thead th {\n",
       "        text-align: right;\n",
       "    }\n",
       "</style>\n",
       "<table border=\"1\" class=\"dataframe\">\n",
       "  <thead>\n",
       "    <tr style=\"text-align: right;\">\n",
       "      <th></th>\n",
       "      <th>age</th>\n",
       "      <th>anaemia</th>\n",
       "      <th>creatinine_phosphokinase</th>\n",
       "      <th>diabetes</th>\n",
       "      <th>ejection_fraction</th>\n",
       "      <th>high_blood_pressure</th>\n",
       "      <th>platelets</th>\n",
       "      <th>serum_creatinine</th>\n",
       "      <th>serum_sodium</th>\n",
       "      <th>sex</th>\n",
       "      <th>smoking</th>\n",
       "      <th>time</th>\n",
       "      <th>DEATH_EVENT</th>\n",
       "    </tr>\n",
       "  </thead>\n",
       "  <tbody>\n",
       "    <tr>\n",
       "      <th>0</th>\n",
       "      <td>75.0</td>\n",
       "      <td>0</td>\n",
       "      <td>582</td>\n",
       "      <td>0</td>\n",
       "      <td>20</td>\n",
       "      <td>1</td>\n",
       "      <td>265000.00</td>\n",
       "      <td>1.9</td>\n",
       "      <td>130</td>\n",
       "      <td>1</td>\n",
       "      <td>0</td>\n",
       "      <td>4</td>\n",
       "      <td>1</td>\n",
       "    </tr>\n",
       "    <tr>\n",
       "      <th>1</th>\n",
       "      <td>55.0</td>\n",
       "      <td>0</td>\n",
       "      <td>7861</td>\n",
       "      <td>0</td>\n",
       "      <td>38</td>\n",
       "      <td>0</td>\n",
       "      <td>263358.03</td>\n",
       "      <td>1.1</td>\n",
       "      <td>136</td>\n",
       "      <td>1</td>\n",
       "      <td>0</td>\n",
       "      <td>6</td>\n",
       "      <td>1</td>\n",
       "    </tr>\n",
       "    <tr>\n",
       "      <th>2</th>\n",
       "      <td>65.0</td>\n",
       "      <td>0</td>\n",
       "      <td>146</td>\n",
       "      <td>0</td>\n",
       "      <td>20</td>\n",
       "      <td>0</td>\n",
       "      <td>162000.00</td>\n",
       "      <td>1.3</td>\n",
       "      <td>129</td>\n",
       "      <td>1</td>\n",
       "      <td>1</td>\n",
       "      <td>7</td>\n",
       "      <td>1</td>\n",
       "    </tr>\n",
       "    <tr>\n",
       "      <th>3</th>\n",
       "      <td>50.0</td>\n",
       "      <td>1</td>\n",
       "      <td>111</td>\n",
       "      <td>0</td>\n",
       "      <td>20</td>\n",
       "      <td>0</td>\n",
       "      <td>210000.00</td>\n",
       "      <td>1.9</td>\n",
       "      <td>137</td>\n",
       "      <td>1</td>\n",
       "      <td>0</td>\n",
       "      <td>7</td>\n",
       "      <td>1</td>\n",
       "    </tr>\n",
       "    <tr>\n",
       "      <th>4</th>\n",
       "      <td>65.0</td>\n",
       "      <td>1</td>\n",
       "      <td>160</td>\n",
       "      <td>1</td>\n",
       "      <td>20</td>\n",
       "      <td>0</td>\n",
       "      <td>327000.00</td>\n",
       "      <td>2.7</td>\n",
       "      <td>116</td>\n",
       "      <td>0</td>\n",
       "      <td>0</td>\n",
       "      <td>8</td>\n",
       "      <td>1</td>\n",
       "    </tr>\n",
       "  </tbody>\n",
       "</table>\n",
       "</div>"
      ],
      "text/plain": [
       "    age  anaemia  creatinine_phosphokinase  diabetes  ejection_fraction  \\\n",
       "0  75.0        0                       582         0                 20   \n",
       "1  55.0        0                      7861         0                 38   \n",
       "2  65.0        0                       146         0                 20   \n",
       "3  50.0        1                       111         0                 20   \n",
       "4  65.0        1                       160         1                 20   \n",
       "\n",
       "   high_blood_pressure  platelets  serum_creatinine  serum_sodium  sex  \\\n",
       "0                    1  265000.00               1.9           130    1   \n",
       "1                    0  263358.03               1.1           136    1   \n",
       "2                    0  162000.00               1.3           129    1   \n",
       "3                    0  210000.00               1.9           137    1   \n",
       "4                    0  327000.00               2.7           116    0   \n",
       "\n",
       "   smoking  time  DEATH_EVENT  \n",
       "0        0     4            1  \n",
       "1        0     6            1  \n",
       "2        1     7            1  \n",
       "3        0     7            1  \n",
       "4        0     8            1  "
      ]
     },
     "metadata": {},
     "output_type": "display_data"
    }
   ],
   "source": [
    "#Display the first 5 rows of the dataset and we get to know our features\n",
    "display(data.head())"
   ]
  },
  {
   "cell_type": "markdown",
   "id": "92466540",
   "metadata": {},
   "source": [
    "The label is the death event"
   ]
  },
  {
   "cell_type": "code",
   "execution_count": 4,
   "id": "195661ff",
   "metadata": {},
   "outputs": [
    {
     "data": {
      "text/html": [
       "<div>\n",
       "<style scoped>\n",
       "    .dataframe tbody tr th:only-of-type {\n",
       "        vertical-align: middle;\n",
       "    }\n",
       "\n",
       "    .dataframe tbody tr th {\n",
       "        vertical-align: top;\n",
       "    }\n",
       "\n",
       "    .dataframe thead th {\n",
       "        text-align: right;\n",
       "    }\n",
       "</style>\n",
       "<table border=\"1\" class=\"dataframe\">\n",
       "  <thead>\n",
       "    <tr style=\"text-align: right;\">\n",
       "      <th></th>\n",
       "      <th>age</th>\n",
       "      <th>anaemia</th>\n",
       "      <th>creatinine_phosphokinase</th>\n",
       "      <th>diabetes</th>\n",
       "      <th>ejection_fraction</th>\n",
       "      <th>high_blood_pressure</th>\n",
       "      <th>platelets</th>\n",
       "      <th>serum_creatinine</th>\n",
       "      <th>serum_sodium</th>\n",
       "      <th>sex</th>\n",
       "      <th>smoking</th>\n",
       "      <th>time</th>\n",
       "      <th>DEATH_EVENT</th>\n",
       "    </tr>\n",
       "  </thead>\n",
       "  <tbody>\n",
       "    <tr>\n",
       "      <th>count</th>\n",
       "      <td>299.000000</td>\n",
       "      <td>299.000000</td>\n",
       "      <td>299.000000</td>\n",
       "      <td>299.000000</td>\n",
       "      <td>299.000000</td>\n",
       "      <td>299.000000</td>\n",
       "      <td>299.000000</td>\n",
       "      <td>299.00000</td>\n",
       "      <td>299.000000</td>\n",
       "      <td>299.000000</td>\n",
       "      <td>299.00000</td>\n",
       "      <td>299.000000</td>\n",
       "      <td>299.00000</td>\n",
       "    </tr>\n",
       "    <tr>\n",
       "      <th>mean</th>\n",
       "      <td>60.833893</td>\n",
       "      <td>0.431438</td>\n",
       "      <td>581.839465</td>\n",
       "      <td>0.418060</td>\n",
       "      <td>38.083612</td>\n",
       "      <td>0.351171</td>\n",
       "      <td>263358.029264</td>\n",
       "      <td>1.39388</td>\n",
       "      <td>136.625418</td>\n",
       "      <td>0.648829</td>\n",
       "      <td>0.32107</td>\n",
       "      <td>130.260870</td>\n",
       "      <td>0.32107</td>\n",
       "    </tr>\n",
       "    <tr>\n",
       "      <th>std</th>\n",
       "      <td>11.894809</td>\n",
       "      <td>0.496107</td>\n",
       "      <td>970.287881</td>\n",
       "      <td>0.494067</td>\n",
       "      <td>11.834841</td>\n",
       "      <td>0.478136</td>\n",
       "      <td>97804.236869</td>\n",
       "      <td>1.03451</td>\n",
       "      <td>4.412477</td>\n",
       "      <td>0.478136</td>\n",
       "      <td>0.46767</td>\n",
       "      <td>77.614208</td>\n",
       "      <td>0.46767</td>\n",
       "    </tr>\n",
       "    <tr>\n",
       "      <th>min</th>\n",
       "      <td>40.000000</td>\n",
       "      <td>0.000000</td>\n",
       "      <td>23.000000</td>\n",
       "      <td>0.000000</td>\n",
       "      <td>14.000000</td>\n",
       "      <td>0.000000</td>\n",
       "      <td>25100.000000</td>\n",
       "      <td>0.50000</td>\n",
       "      <td>113.000000</td>\n",
       "      <td>0.000000</td>\n",
       "      <td>0.00000</td>\n",
       "      <td>4.000000</td>\n",
       "      <td>0.00000</td>\n",
       "    </tr>\n",
       "    <tr>\n",
       "      <th>25%</th>\n",
       "      <td>51.000000</td>\n",
       "      <td>0.000000</td>\n",
       "      <td>116.500000</td>\n",
       "      <td>0.000000</td>\n",
       "      <td>30.000000</td>\n",
       "      <td>0.000000</td>\n",
       "      <td>212500.000000</td>\n",
       "      <td>0.90000</td>\n",
       "      <td>134.000000</td>\n",
       "      <td>0.000000</td>\n",
       "      <td>0.00000</td>\n",
       "      <td>73.000000</td>\n",
       "      <td>0.00000</td>\n",
       "    </tr>\n",
       "    <tr>\n",
       "      <th>50%</th>\n",
       "      <td>60.000000</td>\n",
       "      <td>0.000000</td>\n",
       "      <td>250.000000</td>\n",
       "      <td>0.000000</td>\n",
       "      <td>38.000000</td>\n",
       "      <td>0.000000</td>\n",
       "      <td>262000.000000</td>\n",
       "      <td>1.10000</td>\n",
       "      <td>137.000000</td>\n",
       "      <td>1.000000</td>\n",
       "      <td>0.00000</td>\n",
       "      <td>115.000000</td>\n",
       "      <td>0.00000</td>\n",
       "    </tr>\n",
       "    <tr>\n",
       "      <th>75%</th>\n",
       "      <td>70.000000</td>\n",
       "      <td>1.000000</td>\n",
       "      <td>582.000000</td>\n",
       "      <td>1.000000</td>\n",
       "      <td>45.000000</td>\n",
       "      <td>1.000000</td>\n",
       "      <td>303500.000000</td>\n",
       "      <td>1.40000</td>\n",
       "      <td>140.000000</td>\n",
       "      <td>1.000000</td>\n",
       "      <td>1.00000</td>\n",
       "      <td>203.000000</td>\n",
       "      <td>1.00000</td>\n",
       "    </tr>\n",
       "    <tr>\n",
       "      <th>max</th>\n",
       "      <td>95.000000</td>\n",
       "      <td>1.000000</td>\n",
       "      <td>7861.000000</td>\n",
       "      <td>1.000000</td>\n",
       "      <td>80.000000</td>\n",
       "      <td>1.000000</td>\n",
       "      <td>850000.000000</td>\n",
       "      <td>9.40000</td>\n",
       "      <td>148.000000</td>\n",
       "      <td>1.000000</td>\n",
       "      <td>1.00000</td>\n",
       "      <td>285.000000</td>\n",
       "      <td>1.00000</td>\n",
       "    </tr>\n",
       "  </tbody>\n",
       "</table>\n",
       "</div>"
      ],
      "text/plain": [
       "              age     anaemia  creatinine_phosphokinase    diabetes  \\\n",
       "count  299.000000  299.000000                299.000000  299.000000   \n",
       "mean    60.833893    0.431438                581.839465    0.418060   \n",
       "std     11.894809    0.496107                970.287881    0.494067   \n",
       "min     40.000000    0.000000                 23.000000    0.000000   \n",
       "25%     51.000000    0.000000                116.500000    0.000000   \n",
       "50%     60.000000    0.000000                250.000000    0.000000   \n",
       "75%     70.000000    1.000000                582.000000    1.000000   \n",
       "max     95.000000    1.000000               7861.000000    1.000000   \n",
       "\n",
       "       ejection_fraction  high_blood_pressure      platelets  \\\n",
       "count         299.000000           299.000000     299.000000   \n",
       "mean           38.083612             0.351171  263358.029264   \n",
       "std            11.834841             0.478136   97804.236869   \n",
       "min            14.000000             0.000000   25100.000000   \n",
       "25%            30.000000             0.000000  212500.000000   \n",
       "50%            38.000000             0.000000  262000.000000   \n",
       "75%            45.000000             1.000000  303500.000000   \n",
       "max            80.000000             1.000000  850000.000000   \n",
       "\n",
       "       serum_creatinine  serum_sodium         sex    smoking        time  \\\n",
       "count         299.00000    299.000000  299.000000  299.00000  299.000000   \n",
       "mean            1.39388    136.625418    0.648829    0.32107  130.260870   \n",
       "std             1.03451      4.412477    0.478136    0.46767   77.614208   \n",
       "min             0.50000    113.000000    0.000000    0.00000    4.000000   \n",
       "25%             0.90000    134.000000    0.000000    0.00000   73.000000   \n",
       "50%             1.10000    137.000000    1.000000    0.00000  115.000000   \n",
       "75%             1.40000    140.000000    1.000000    1.00000  203.000000   \n",
       "max             9.40000    148.000000    1.000000    1.00000  285.000000   \n",
       "\n",
       "       DEATH_EVENT  \n",
       "count    299.00000  \n",
       "mean       0.32107  \n",
       "std        0.46767  \n",
       "min        0.00000  \n",
       "25%        0.00000  \n",
       "50%        0.00000  \n",
       "75%        1.00000  \n",
       "max        1.00000  "
      ]
     },
     "execution_count": 4,
     "metadata": {},
     "output_type": "execute_result"
    }
   ],
   "source": [
    "#We explore the basic statistics\n",
    "data.describe()"
   ]
  },
  {
   "cell_type": "code",
   "execution_count": 5,
   "id": "0ee9f4fa",
   "metadata": {},
   "outputs": [
    {
     "name": "stdout",
     "output_type": "stream",
     "text": [
      "(299, 13)\n"
     ]
    }
   ],
   "source": [
    "#Explore the amount of data we have\n",
    "print(data.shape)"
   ]
  },
  {
   "cell_type": "code",
   "execution_count": 6,
   "id": "0d28b12c",
   "metadata": {},
   "outputs": [
    {
     "data": {
      "text/plain": [
       "age                         0\n",
       "anaemia                     0\n",
       "creatinine_phosphokinase    0\n",
       "diabetes                    0\n",
       "ejection_fraction           0\n",
       "high_blood_pressure         0\n",
       "platelets                   0\n",
       "serum_creatinine            0\n",
       "serum_sodium                0\n",
       "sex                         0\n",
       "smoking                     0\n",
       "time                        0\n",
       "DEATH_EVENT                 0\n",
       "dtype: int64"
      ]
     },
     "execution_count": 6,
     "metadata": {},
     "output_type": "execute_result"
    }
   ],
   "source": [
    "#checking if we have any empy data\n",
    "data.isnull().sum()"
   ]
  },
  {
   "cell_type": "code",
   "execution_count": 7,
   "id": "eea49221",
   "metadata": {},
   "outputs": [
    {
     "name": "stdout",
     "output_type": "stream",
     "text": [
      "<class 'pandas.core.frame.DataFrame'>\n",
      "RangeIndex: 299 entries, 0 to 298\n",
      "Data columns (total 13 columns):\n",
      " #   Column                    Non-Null Count  Dtype  \n",
      "---  ------                    --------------  -----  \n",
      " 0   age                       299 non-null    float64\n",
      " 1   anaemia                   299 non-null    int64  \n",
      " 2   creatinine_phosphokinase  299 non-null    int64  \n",
      " 3   diabetes                  299 non-null    int64  \n",
      " 4   ejection_fraction         299 non-null    int64  \n",
      " 5   high_blood_pressure       299 non-null    int64  \n",
      " 6   platelets                 299 non-null    float64\n",
      " 7   serum_creatinine          299 non-null    float64\n",
      " 8   serum_sodium              299 non-null    int64  \n",
      " 9   sex                       299 non-null    int64  \n",
      " 10  smoking                   299 non-null    int64  \n",
      " 11  time                      299 non-null    int64  \n",
      " 12  DEATH_EVENT               299 non-null    int64  \n",
      "dtypes: float64(3), int64(10)\n",
      "memory usage: 30.5 KB\n"
     ]
    }
   ],
   "source": [
    "#We check the datatypes\n",
    "data.info()"
   ]
  },
  {
   "cell_type": "code",
   "execution_count": 8,
   "id": "2add583f",
   "metadata": {},
   "outputs": [
    {
     "data": {
      "text/plain": [
       "<seaborn.axisgrid.FacetGrid at 0x1fda6d9c610>"
      ]
     },
     "execution_count": 8,
     "metadata": {},
     "output_type": "execute_result"
    },
    {
     "data": {
      "image/png": "[encoded data removed]",
      "text/plain": [
       "<Figure size 360x360 with 1 Axes>"
      ]
     },
     "metadata": {
      "needs_background": "light"
     },
     "output_type": "display_data"
    }
   ],
   "source": [
    "#checking if the data is unbalanced\n",
    "g = sns.catplot(x='DEATH_EVENT', data=data, kind='count')\n",
    "g.set(xlabel='Death event', ylabel='Numer of events', xticklabels=['Not death','Death'], title='Class distribution')\n"
   ]
  },
  {
   "cell_type": "markdown",
   "id": "943f847c",
   "metadata": {},
   "source": [
    "It is noticible how the class is unbalanced, lets say, a single category dominates another catrgory.\n",
    "for avoiding troubles with results we will perform SCOPE (that will be explained later).\n",
    "Also, as the data is unbalanced, we will use F1 as the gold metric score, because accuracy is not suitable for this kind of problems."
   ]
  },
  {
   "cell_type": "markdown",
   "id": "e26b73d3",
   "metadata": {},
   "source": [
    "Now we will study the relationship between the categories and the target data along graphics\n"
   ]
  },
  {
   "cell_type": "code",
   "execution_count": 9,
   "id": "f682b7e1",
   "metadata": {},
   "outputs": [],
   "source": [
    "# Storing categorical and numerical features in different Series\n",
    "cat_features = [\"anaemia\",\"diabetes\",\"high_blood_pressure\",\"sex\",\"smoking\"]\n",
    "num_features = pd.Series(data.columns)\n",
    "num_features = ['age','creatinine_phosphokinase','ejection_fraction','platelets','serum_creatinine','serum_sodium','time']\n"
   ]
  },
  {
   "cell_type": "code",
   "execution_count": 10,
   "id": "ac399a4a",
   "metadata": {},
   "outputs": [],
   "source": [
    "def fig_plot(variables, col, var_type):\n",
    "    \"\"\"function that graphic the relationship between the features and the label.\n",
    "    \"\"\"\n",
    "    r = c = 0\n",
    "    fig,ax = plt.subplots(col, 2, figsize=(14,20))\n",
    "    for n,i in enumerate(variables):\n",
    "        if(var_type == \"cat\"):\n",
    "            ct = pd.crosstab(columns=data[i], index=data[\"DEATH_EVENT\"], normalize=\"columns\")\n",
    "            ct.T.plot(kind=\"bar\", stacked= True, color=[\"green\",\"red\"], ax=ax[r,c])\n",
    "            ax[r,c].set_ylabel(\"% of observations\")\n",
    "        else:\n",
    "            sns.boxplot(x=\"DEATH_EVENT\",y=i,data=data,ax=ax[r,c])\n",
    "            ax[r,c].set_title(i.upper()+\" by \"+\"DEATH_EVENT\")\n",
    "        c+=1\n",
    "        if (n+1)%2==0:\n",
    "            r+=1\n",
    "            c=0\n",
    "    ax[r,c].axis(\"off\")\n",
    "    plt.show() "
   ]
  },
  {
   "cell_type": "markdown",
   "id": "af160c14",
   "metadata": {},
   "source": [
    "bar charts are used in order to study the relationship between categorical features and the death event"
   ]
  },
  {
   "cell_type": "code",
   "execution_count": 11,
   "id": "64c2db4f",
   "metadata": {},
   "outputs": [
    {
     "data": {
      "image/png": "[encoded data removed]",
      "text/plain": [
       "<Figure size 1008x1440 with 6 Axes>"
      ]
     },
     "metadata": {
      "needs_background": "light"
     },
     "output_type": "display_data"
    }
   ],
   "source": [
    "cat_col = math.ceil(len(cat_features)/2)\n",
    "fig_plot(cat_features,cat_col,var_type = \"cat\")"
   ]
  },
  {
   "cell_type": "markdown",
   "id": "fa8e7281",
   "metadata": {},
   "source": [
    "There is no visible strong relationship between any categorical data and death event."
   ]
  },
  {
   "cell_type": "markdown",
   "id": "7a63bc15",
   "metadata": {},
   "source": [
    "the numerical variables in relationship with the death event where analysed trough box charts and a heatmap"
   ]
  },
  {
   "cell_type": "code",
   "execution_count": 12,
   "id": "ca73ed67",
   "metadata": {},
   "outputs": [
    {
     "data": {
      "image/png": "[encoded data removed]",
      "text/plain": [
       "<Figure size 1008x1440 with 8 Axes>"
      ]
     },
     "metadata": {
      "needs_background": "light"
     },
     "output_type": "display_data"
    }
   ],
   "source": [
    "num_col = math.ceil(len(num_features)/2)\n",
    "fig_plot(num_features, num_col, var_type = \"num\")\n"
   ]
  },
  {
   "cell_type": "markdown",
   "id": "5c28a7b8",
   "metadata": {},
   "source": [
    "Acording to the graphs, time is the variable that is more related with the death event (\"time\" represents the Follow-up period)."
   ]
  },
  {
   "cell_type": "code",
   "execution_count": 13,
   "id": "9c283b4b",
   "metadata": {},
   "outputs": [
    {
     "data": {
      "image/png": "[encoded data removed]",
      "text/plain": [
       "<Figure size 576x432 with 1 Axes>"
      ]
     },
     "metadata": {
      "needs_background": "light"
     },
     "output_type": "display_data"
    }
   ],
   "source": [
    "#checking correlation between numerical features \n",
    "fig = plt.figure(figsize=(8,6))\n",
    "sns.heatmap(data[num_features].corr(), annot=True, fmt=\".2f\", mask=np.triu(data[num_features].corr()), cbar=False)\n",
    "plt.show()"
   ]
  },
  {
   "cell_type": "markdown",
   "id": "90c7033f",
   "metadata": {},
   "source": [
    "The heatmap shows the correlation coefficient between all numerical features, and we can find that none of them has a high value, so there is no correlation between them."
   ]
  },
  {
   "cell_type": "markdown",
   "id": "7bea220a",
   "metadata": {},
   "source": [
    "### FEATURE SELECTION"
   ]
  },
  {
   "cell_type": "markdown",
   "id": "3ba76b88",
   "metadata": {},
   "source": [
    "After analyzing our dataset with EDA, we have noticed that time is the variable that is most related to death events, also we found that the variables are not related between them. however now we will perform a feature importance analysis with RandomForestClassifier to determine, objectively, what features will be used."
   ]
  },
  {
   "cell_type": "code",
   "execution_count": 14,
   "id": "87b55bc6",
   "metadata": {},
   "outputs": [
    {
     "data": {
      "text/plain": [
       "RandomForestClassifier(n_estimators=1000, random_state=42)"
      ]
     },
     "execution_count": 14,
     "metadata": {},
     "output_type": "execute_result"
    }
   ],
   "source": [
    "#We put all the features together and separate the label\n",
    "features = cat_features + num_features\n",
    "X = data[features]\n",
    "y = data['DEATH_EVENT']\n",
    "\n",
    "rf = RandomForestClassifier(n_estimators=1000, random_state=42)\n",
    "rf.fit(X,y)"
   ]
  },
  {
   "cell_type": "code",
   "execution_count": 15,
   "id": "b90df904",
   "metadata": {},
   "outputs": [
    {
     "data": {
      "image/png": "[encoded data removed]",
      "text/plain": [
       "<Figure size 504x504 with 1 Axes>"
      ]
     },
     "metadata": {
      "needs_background": "light"
     },
     "output_type": "display_data"
    }
   ],
   "source": [
    "#We save and put in descending orther the feature importance that we obtained from the RandomForestClassifier\n",
    "feature_importance = pd.DataFrame(rf.feature_importances_)\n",
    "feature_importance.index = pd.Series(X.columns)\n",
    "feature_importance = (feature_importance*100).copy().sort_values(by=0, ascending=False)\n",
    "feature_importance = feature_importance.reset_index()\n",
    "feature_importance.columns = ['Feature','Importance']\n",
    "\n",
    "#plot the feature importance\n",
    "fig = plt.figure(figsize=(7,7))\n",
    "ax1 = sns.barplot(data=feature_importance, x='Importance', y='Feature', palette='rocket')\n",
    "ax1.set(xlabel='% of importance',ylabel='Feature')\n",
    "\n",
    "for p in ax1.patches:\n",
    "    ax1.annotate(\"%.0f\" % p.get_width() + '%', xy=(p.get_width(), p.get_y()+p.get_height()/2),\n",
    "            xytext=(5, 0), textcoords='offset points', ha=\"left\", va=\"center\")\n",
    "\n",
    "ax1.spines['right'].set_visible(False)\n",
    "ax1.spines['top'].set_visible(False)\n",
    "plt.title(\"Feature Importance\")\n",
    "plt.show()"
   ]
  },
  {
   "cell_type": "markdown",
   "id": "e87eac2c",
   "metadata": {},
   "source": [
    "It is possible to notice that between serum sodium and anaemia there is a jump in importance of the features, since we go from a 7% to 1%"
   ]
  },
  {
   "cell_type": "markdown",
   "id": "b14ca56f",
   "metadata": {},
   "source": [
    "Now we want to find a threshold by building a model by eliminating one least important feature at a time. Then select a set of features with best score.\n",
    "Since the class is moderately imbalanced, F1 score would be an appropriate metric instead of accuracy."
   ]
  },
  {
   "cell_type": "markdown",
   "id": "23fd556e",
   "metadata": {},
   "source": [
    "We will iterate from 12 to 6 features and try out diferent parameters with a RandomSearch in order to obtain the most accurate model"
   ]
  },
  {
   "cell_type": "code",
   "execution_count": 16,
   "id": "01b2fdfe",
   "metadata": {},
   "outputs": [
    {
     "name": "stdout",
     "output_type": "stream",
     "text": [
      "12variables: RandomForestClassifier(max_depth=50, random_state=7) F1 score 0.8276490747235428\n",
      "11variables: RandomForestClassifier(max_depth=20, random_state=7) F1 score 0.8299583676888396\n",
      "10variables: RandomForestClassifier(max_depth=15, random_state=7) F1 score 0.8168897524810157\n",
      "9variables: RandomForestClassifier(max_depth=15, n_estimators=1000, random_state=7) F1 score 0.8211010831379537\n",
      "8variables: RandomForestClassifier(max_depth=15, random_state=7) F1 score 0.8334862720258236\n",
      "7variables: RandomForestClassifier(max_depth=15, n_estimators=5000, random_state=7) F1 score 0.8080046215512631\n"
     ]
    }
   ],
   "source": [
    "# Definition of the parameters\n",
    "params = {'n_estimators':[10,100,1000,5000],\n",
    "         'max_depth':[15,20,50]}\n",
    "\n",
    "for var in np.arange(feature_importance.shape[0],6,-1):\n",
    "    X_featimp = X[feature_importance.iloc[:var,0]].copy()\n",
    "    X_train_imp, X_test_imp, y_train_imp, y_test_imp = train_test_split(X_featimp, y, test_size=0.2, random_state=7)\n",
    "    rf_featimp = RandomForestClassifier(random_state=7)\n",
    "    grid =  RandomizedSearchCV(estimator=rf_featimp, param_distributions=params, cv=5, scoring='f1_weighted')\n",
    "    grid.fit(X_train_imp,y_train_imp)\n",
    "    print(str(var)+'variables: '+str(grid.best_estimator_)+' F1 score '+str(grid.best_score_))"
   ]
  },
  {
   "cell_type": "markdown",
   "id": "5af45534",
   "metadata": {},
   "source": [
    "Although the difference is not very big, the analysis with 8 variables is the one that gave us the greatest F1, therefore we will choose to work with the 8 main features. these are:\n",
    "\n",
    "1- time\\\n",
    "2- serum_creatinine\\\n",
    "3- ejection_fraction\\\n",
    "4- age\\\n",
    "5- creatinine_phosphokinase\\\n",
    "6- platelets\\\n",
    "7- serum_sodium\\\n",
    "8- anaemia\n"
   ]
  },
  {
   "cell_type": "markdown",
   "id": "1ca53efb",
   "metadata": {},
   "source": [
    "Now, we create our model with 8 features, also performing a RandomSearch because we want to obtain the best model possible"
   ]
  },
  {
   "cell_type": "code",
   "execution_count": 17,
   "id": "34502415",
   "metadata": {},
   "outputs": [
    {
     "name": "stdout",
     "output_type": "stream",
     "text": [
      "RandomForestClassifier(max_depth=50, random_state=7)\n",
      "Train score  1.0\n"
     ]
    }
   ],
   "source": [
    "X_final = X[feature_importance.iloc[:8,0]].copy()\n",
    "X_train, X_test, y_train, y_test = train_test_split(X_final, y, test_size=0.2, random_state=7)\n",
    "final_rf_NS = RandomForestClassifier(random_state=7)\n",
    "\n",
    "params = {'n_estimators':[10,100,1000,5000],\n",
    "         'max_depth':[15,20,50]}\n",
    "\n",
    "grid_NS = RandomizedSearchCV(estimator=final_rf_NS, param_distributions=params, cv=5, scoring='f1_weighted')\n",
    "\n",
    "grid_NS.fit(X_train,y_train)\n",
    "model_NS = grid_NS.best_estimator_\n",
    "print(model_NS)\n",
    "print('Train score ',model_NS.score(X_train,y_train))"
   ]
  },
  {
   "cell_type": "code",
   "execution_count": 18,
   "id": "ff2895c0",
   "metadata": {},
   "outputs": [
    {
     "name": "stdout",
     "output_type": "stream",
     "text": [
      "              precision    recall  f1-score   support\n",
      "\n",
      "           0       1.00      1.00      1.00       157\n",
      "           1       1.00      1.00      1.00        82\n",
      "\n",
      "    accuracy                           1.00       239\n",
      "   macro avg       1.00      1.00      1.00       239\n",
      "weighted avg       1.00      1.00      1.00       239\n",
      "\n"
     ]
    }
   ],
   "source": [
    "train_predictions = model_NS.predict(X_train)\n",
    "print(classification_report(y_train, train_predictions))"
   ]
  },
  {
   "cell_type": "code",
   "execution_count": 19,
   "id": "3d047b88",
   "metadata": {},
   "outputs": [
    {
     "data": {
      "text/plain": [
       "0.9166666666666666"
      ]
     },
     "execution_count": 19,
     "metadata": {},
     "output_type": "execute_result"
    }
   ],
   "source": [
    "model_NS.score(X_test, y_test)"
   ]
  },
  {
   "cell_type": "markdown",
   "id": "8fba8e16",
   "metadata": {},
   "source": [
    "We can see that the model is overfitting the values because with the training set we obtain a socre of 1 and we the test set the value is 0.91, therefore we will solve the problem through the implementation of SMOTE"
   ]
  },
  {
   "cell_type": "markdown",
   "id": "bea11d9e",
   "metadata": {},
   "source": [
    "### Handling Imbalanced Class Problem With SMOTE"
   ]
  },
  {
   "cell_type": "markdown",
   "id": "d863f30b",
   "metadata": {},
   "source": [
    "SMOTE stands for 'Synthetic Minority Oversampling Technique' is an oversampling technique of the minority category. SMOTE generates synthetic samples to brings the count of the categories in the training target variable to the same number."
   ]
  },
  {
   "cell_type": "code",
   "execution_count": 20,
   "id": "5345802c",
   "metadata": {},
   "outputs": [
    {
     "name": "stdout",
     "output_type": "stream",
     "text": [
      "12 variables:  RandomForestClassifier(max_depth=50, n_estimators=1000, random_state=42)  F1 score: 0.8719309120600375\n",
      "11 variables:  RandomForestClassifier(max_depth=15, random_state=42)  F1 score: 0.8687921700166493\n",
      "10 variables:  RandomForestClassifier(max_depth=20, n_estimators=5000, random_state=42)  F1 score: 0.8652191600366799\n",
      "9 variables:  RandomForestClassifier(max_depth=20, n_estimators=5000, random_state=42)  F1 score: 0.8624621297112414\n",
      "8 variables:  RandomForestClassifier(max_depth=15, n_estimators=5000, random_state=42)  F1 score: 0.8526939130866286\n"
     ]
    }
   ],
   "source": [
    "from imblearn.over_sampling import SMOTE \n",
    "\n",
    "params = {'n_estimators':[10,100,1000,5000],\n",
    "         'max_depth':[15,20,50]}\n",
    "\n",
    "for var in np.arange(feature_importance.shape[0],7,-1):\n",
    "    X_final_S = X[feature_importance.iloc[:var,0]].copy()\n",
    "    X_train, X_test, y_train,y_test = train_test_split(X_final_S, y, test_size=0.2, random_state=7)\n",
    "    smote = SMOTE(random_state=7)\n",
    "    X_train_S, y_train_S = smote.fit_resample(X_train, y_train)\n",
    "    final_rf = RandomForestClassifier(random_state=42)\n",
    "    \n",
    "    grid = RandomizedSearchCV(estimator=final_rf, param_distributions = params, cv=5, scoring='f1_weighted')\n",
    "    grid.fit(X_train_S, y_train_S)\n",
    "    print(str(var)+\" variables:  \"+str(grid.best_estimator_)+\"  F1 score: \"+str(grid.best_score_))"
   ]
  },
  {
   "cell_type": "markdown",
   "id": "2e70fdab",
   "metadata": {},
   "source": [
    "now, we can se that the best F1 score was with 9 variables, so we will create our final model with 9 features."
   ]
  },
  {
   "cell_type": "markdown",
   "id": "74297744",
   "metadata": {},
   "source": [
    "### Choosing the model"
   ]
  },
  {
   "cell_type": "markdown",
   "id": "e3f3f9c7",
   "metadata": {},
   "source": [
    "Now, we will create our final model using a random forest classifier and perform hyperparamenter tuning using RandomSearchCV"
   ]
  },
  {
   "cell_type": "code",
   "execution_count": 21,
   "id": "16710f4e",
   "metadata": {},
   "outputs": [
    {
     "name": "stdout",
     "output_type": "stream",
     "text": [
      "RandomForestClassifier(max_depth=20, min_samples_leaf=50, min_samples_split=80,\n",
      "                       n_estimators=5000, random_state=7)  F1 score: 0.8430788146468625\n"
     ]
    }
   ],
   "source": [
    "X_final_S = X[feature_importance.iloc[:9,0]].copy()\n",
    "X_train, X_test, y_train, y_test = train_test_split(X_final_S, y, test_size=0.2, random_state=7)\n",
    "smote = SMOTE(random_state=7)\n",
    "X_train_S, y_train_S = smote.fit_resample(X_train, y_train)\n",
    "final_rf = RandomForestClassifier(random_state=7)\n",
    "\n",
    "#trying out several hyperparamenter tuning in order to get the best reesult\n",
    "params = {'n_estimators':[500,1000,5000,8000], \n",
    "         'max_depth':[3,5,10,20],\n",
    "         'min_samples_split':[80,100],\n",
    "         'min_samples_leaf':[40,50]}\n",
    "\n",
    "grid = RandomizedSearchCV(estimator=final_rf, param_distributions = params, cv=5, scoring='f1_weighted')\n",
    "grid.fit(X_train_S, y_train_S)\n",
    "print(str(grid.best_estimator_)+\"  F1 score: \"+str(grid.best_score_))"
   ]
  },
  {
   "cell_type": "code",
   "execution_count": 22,
   "id": "f52e0bac",
   "metadata": {},
   "outputs": [],
   "source": [
    "FINAL_MODEL = grid.best_estimator_"
   ]
  },
  {
   "cell_type": "code",
   "execution_count": 24,
   "id": "0ec659f1",
   "metadata": {},
   "outputs": [
    {
     "name": "stdout",
     "output_type": "stream",
     "text": [
      "Train set score 0.8662420382165605\n"
     ]
    }
   ],
   "source": [
    "print('Train set score', FINAL_MODEL.score(X_train_S,y_train_S))"
   ]
  },
  {
   "cell_type": "code",
   "execution_count": 25,
   "id": "5a18fc30",
   "metadata": {},
   "outputs": [
    {
     "name": "stdout",
     "output_type": "stream",
     "text": [
      "              precision    recall  f1-score   support\n",
      "\n",
      "           0       0.88      0.85      0.86       157\n",
      "           1       0.85      0.89      0.87       157\n",
      "\n",
      "    accuracy                           0.87       314\n",
      "   macro avg       0.87      0.87      0.87       314\n",
      "weighted avg       0.87      0.87      0.87       314\n",
      "\n"
     ]
    }
   ],
   "source": [
    "train_pred = FINAL_MODEL.predict(X_train_S)\n",
    "print(classification_report(y_train_S,train_pred))"
   ]
  },
  {
   "cell_type": "code",
   "execution_count": 26,
   "id": "74b09395",
   "metadata": {},
   "outputs": [
    {
     "name": "stdout",
     "output_type": "stream",
     "text": [
      "Test set score  0.9166666666666666\n"
     ]
    }
   ],
   "source": [
    "print('Test set score ',FINAL_MODEL.score(X_test,y_test)) #Test set score"
   ]
  },
  {
   "cell_type": "code",
   "execution_count": 27,
   "id": "5033b0be",
   "metadata": {},
   "outputs": [],
   "source": [
    "pred = FINAL_MODEL.predict(X_test)"
   ]
  },
  {
   "cell_type": "code",
   "execution_count": 28,
   "id": "5e40c4f9",
   "metadata": {},
   "outputs": [
    {
     "name": "stdout",
     "output_type": "stream",
     "text": [
      "              precision    recall  f1-score   support\n",
      "\n",
      "           0       0.94      0.96      0.95        46\n",
      "           1       0.85      0.79      0.81        14\n",
      "\n",
      "    accuracy                           0.92        60\n",
      "   macro avg       0.89      0.87      0.88        60\n",
      "weighted avg       0.92      0.92      0.92        60\n",
      "\n"
     ]
    }
   ],
   "source": [
    "print(classification_report(y_test,pred))"
   ]
  },
  {
   "cell_type": "markdown",
   "id": "9510ad72",
   "metadata": {},
   "source": [
    "We can notice now, that the score is similar in the training and the testing set."
   ]
  },
  {
   "cell_type": "markdown",
   "id": "ae02511a",
   "metadata": {},
   "source": [
    "### Identifying Overfitting\n",
    " In order to be sure that there is not overfitting, we create a learning Curve to study the model"
   ]
  },
  {
   "cell_type": "code",
   "execution_count": 29,
   "id": "cb36dd75",
   "metadata": {},
   "outputs": [
    {
     "data": {
      "image/png": "[encoded data removed]",
      "text/plain": [
       "<Figure size 432x288 with 1 Axes>"
      ]
     },
     "metadata": {
      "needs_background": "light"
     },
     "output_type": "display_data"
    }
   ],
   "source": [
    "train_size,train_acc,test_acc = learning_curve(FINAL_MODEL, X_train_S, y_train_S, cv=5)\n",
    "learn_df = pd.DataFrame({\"Train_size\":train_size,\"Train_Accuracy\":train_acc.mean(axis=1),\"Test_Accuracy\":test_acc.mean(axis=1)}).melt(id_vars=\"Train_size\")\n",
    "sns.lineplot(x=\"Train_size\",y=\"value\",data=learn_df,hue=\"variable\")\n",
    "plt.title(\"Learning Curve\")\n",
    "plt.ylabel(\"Accuracy\");"
   ]
  },
  {
   "cell_type": "markdown",
   "id": "e975e802",
   "metadata": {},
   "source": [
    "We can see that the model is not overfitted, and that is because:\n",
    "- Using Ensembling methods (RandomForest, SMOTE)\n",
    "- Reducing the number of features\n",
    "- Hyperparameter tuning\n",
    "\n",
    "As seen from the learning curve, adding additional examples to the training set (SMOTE) improves the model performance on unseen data. There has been an improvement in the CV score and test set score after adding synthetic examples using SMOTE. Further hyperparameter tuning also helped to avoid overfitting."
   ]
  },
  {
   "cell_type": "markdown",
   "id": "f26ff316",
   "metadata": {},
   "source": [
    "### Metrics of the final model"
   ]
  },
  {
   "cell_type": "code",
   "execution_count": 30,
   "id": "aef04e9c",
   "metadata": {},
   "outputs": [
    {
     "data": {
      "image/png": "[encoded data removed]",
      "text/plain": [
       "<Figure size 432x288 with 2 Axes>"
      ]
     },
     "metadata": {
      "needs_background": "light"
     },
     "output_type": "display_data"
    }
   ],
   "source": [
    "sns.heatmap(confusion_matrix(y_test,pred),annot=True)\n",
    "plt.ylabel(\"Actual\")\n",
    "plt.xlabel(\"Prediction\");"
   ]
  },
  {
   "cell_type": "markdown",
   "id": "58752463",
   "metadata": {},
   "source": [
    "The figure above, shows the confusion matrix. We can notice that te amount of false positives and false negatives is low."
   ]
  },
  {
   "cell_type": "code",
   "execution_count": 34,
   "id": "d57335c5",
   "metadata": {},
   "outputs": [
    {
     "data": {
      "image/png": "[encoded data removed]",
      "text/plain": [
       "<Figure size 432x288 with 1 Axes>"
      ]
     },
     "metadata": {
      "needs_background": "light"
     },
     "output_type": "display_data"
    }
   ],
   "source": [
    "plot_roc_curve(FINAL_MODEL, X_test, y_test)\n",
    "plt.title('ROC curve')\n",
    "plt.show()"
   ]
  },
  {
   "cell_type": "markdown",
   "id": "ee78ca4d",
   "metadata": {},
   "source": [
    "As seen in the ROC curve above, this model has a good True Positive Rate (TPR) which is important for a model used for medical diagnosis."
   ]
  }
 ],
 "metadata": {
  "kernelspec": {
   "display_name": "Python 3",
   "language": "python",
   "name": "python3"
  },
  "language_info": {
   "codemirror_mode": {
    "name": "ipython",
    "version": 3
   },
   "file_extension": ".py",
   "mimetype": "text/x-python",
   "name": "python",
   "nbconvert_exporter": "python",
   "pygments_lexer": "ipython3",
   "version": "3.8.5"
  }
 },
 "nbformat": 4,
 "nbformat_minor": 5
}
